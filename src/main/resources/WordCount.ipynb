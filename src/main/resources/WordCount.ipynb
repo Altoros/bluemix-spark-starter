{
 "cells": [
  {
   "cell_type": "code",
   "execution_count": 1,
   "metadata": {
    "collapsed": false
   },
   "outputs": [
    {
     "name": "stdout",
     "output_type": "stream",
     "text": [
      "Starting download from https://github.com/SergeiSidorov/bluemix-spark/raw/master/com.altoros.bluemix.spark-1.0-SNAPSHOT.jar\n",
      "Finished download of com.altoros.bluemix.spark-1.0-SNAPSHOT.jar\n"
     ]
    }
   ],
   "source": [
    "%AddJar https://github.com/SergeiSidorov/bluemix-spark/raw/master/com.altoros.bluemix.spark-1.0-SNAPSHOT.jar -f"
   ]
  },
  {
   "cell_type": "code",
   "execution_count": 2,
   "metadata": {
    "collapsed": false
   },
   "outputs": [
    {
     "name": "stdout",
     "output_type": "stream",
     "text": [
      ">>> word = University, count = 1\n",
      ">>> word = parallelism, count = 1\n",
      ">>> word = for, count = 1\n",
      ">>> word = Apache, count = 2\n",
      ">>> word = is, count = 1\n",
      ">>> word = source, count = 1\n",
      ">>> word = since., count = 1\n",
      ">>> word = donated, count = 1\n",
      ">>> word = clusters, count = 1\n",
      ">>> word = Software, count = 1\n",
      ">>> word = California,, count = 1\n",
      ">>> word = programming, count = 1\n",
      ">>> word = data, count = 1\n",
      ">>> word = interface, count = 1\n",
      ">>> word = fault-tolerance., count = 1\n",
      ">>> word = it, count = 1\n",
      ">>> word = entire, count = 1\n",
      ">>> word = provides, count = 1\n",
      ">>> word = has, count = 1\n",
      ">>> word = computing, count = 1\n",
      ">>> word = Berkeley's, count = 1\n",
      ">>> word = open, count = 1\n",
      ">>> word = that, count = 1\n",
      ">>> word = to, count = 1\n",
      ">>> word = maintained, count = 1\n",
      ">>> word = cluster, count = 1\n",
      ">>> word = was, count = 1\n",
      ">>> word = at, count = 1\n",
      ">>> word = AMPLab,, count = 2\n",
      ">>> word = implicit, count = 1\n",
      ">>> word = framework., count = 1\n",
      ">>> word = Originally, count = 1\n",
      ">>> word = developed, count = 1\n",
      ">>> word = with, count = 1\n",
      ">>> word = Spark, count = 3\n",
      ">>> word = Foundation, count = 1\n",
      ">>> word = an, count = 2\n",
      ">>> word = codebase, count = 1\n",
      ">>> word = of, count = 1\n",
      ">>> word = and, count = 1\n",
      ">>> word = later, count = 1\n",
      ">>> word = the, count = 3\n"
     ]
    }
   ],
   "source": [
    "val words = com.altoros.bluemix.spark.WordCount.countOfWord(sc)\n",
    "words.foreach(p => println(\">>> word = \" + p._1 + \", count = \" + p._2))"
   ]
  },
  {
   "cell_type": "code",
   "execution_count": null,
   "metadata": {
    "collapsed": true
   },
   "outputs": [],
   "source": []
  }
 ],
 "metadata": {
  "kernelspec": {
   "display_name": "Scala 2.10",
   "language": "scala",
   "name": "spark"
  },
  "language_info": {
   "name": "scala"
  }
 },
 "nbformat": 4,
 "nbformat_minor": 0
}