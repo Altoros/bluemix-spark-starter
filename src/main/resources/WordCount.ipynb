{
 "cells": [
  {
   "cell_type": "code",
   "execution_count": 1,
   "metadata": {
    "collapsed": false
   },
   "outputs": [
    {
     "name": "stdout",
     "output_type": "stream",
     "text": [
      "Starting download from https://github.com/SergeiSidorov/bluemix-spark/raw/master/com.altoros.bluemix.spark-1.0-SNAPSHOT.jar\n",
      "Finished download of com.altoros.bluemix.spark-1.0-SNAPSHOT.jar\n"
     ]
    }
   ],
   "source": [
    "%AddJar https://github.com/SergeiSidorov/bluemix-spark/raw/master/com.altoros.bluemix.spark-1.0-SNAPSHOT.jar -f"
   ]
  },
  {
   "cell_type": "code",
   "execution_count": null,
   "metadata": {
    "collapsed": true
   },
   "outputs": [],
   "source": [
    "val words = com.altoros.bluemix.spark.WordCount.countOfWord(sc)\n",
    "words.foreach(p => println(\">>> word = \" + p._1 + \", count = \" + p._2))"
   ]
  }
 ],
 "metadata": {
  "kernelspec": {
   "display_name": "Scala 2.10",
   "language": "scala",
   "name": "spark"
  },
  "language_info": {
   "name": "scala"
  }
 },
 "nbformat": 4,
 "nbformat_minor": 0
}